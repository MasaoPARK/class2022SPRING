{
  "nbformat": 4,
  "nbformat_minor": 0,
  "metadata": {
    "colab": {
      "name": "Untitled3.ipynb의 사본",
      "provenance": [],
      "authorship_tag": "ABX9TyMPMd1fC+wWIWR7qL4Cgbcg",
      "include_colab_link": true
    },
    "kernelspec": {
      "name": "python3",
      "display_name": "Python 3"
    },
    "language_info": {
      "name": "python"
    }
  },
  "cells": [
    {
      "cell_type": "markdown",
      "metadata": {
        "id": "view-in-github",
        "colab_type": "text"
      },
      "source": [
        "<a href=\"https://colab.research.google.com/github/MasaoPARK/class2022SPRING/blob/main/20220328.ipynb\" target=\"_parent\"><img src=\"https://colab.research.google.com/assets/colab-badge.svg\" alt=\"Open In Colab\"/></a>"
      ]
    },
    {
      "cell_type": "code",
      "execution_count": null,
      "metadata": {
        "id": "8UIhU3hKtER4"
      },
      "outputs": [],
      "source": [
        "!pip install gradio\n",
        "import gradio as gr\n",
        "import requests\n",
        "import pandas as pd"
      ]
    },
    {
      "cell_type": "code",
      "source": [
        "URL = ('http://apis.data.go.kr/1661000/FireInformationService/getOcBysidoFireSmrzPcnd?serviceKey=gfz0fviKu8i9TecXGMsyKUe4fwYQtc9PxLRws1%2B%2Fisq7NEL3f0P36wgNDFbOq05Kj8%2BQrnbq2k8NrCURXketWA%3D%3D&pageNo=1&numOfRows=10&resultType=json&ocrn_ymd=20210121')"
      ],
      "metadata": {
        "id": "fkW7d4805A_a"
      },
      "execution_count": null,
      "outputs": []
    },
    {
      "cell_type": "code",
      "source": [
        "response = requests.get(URL)"
      ],
      "metadata": {
        "id": "UkKFrNhE5JF6"
      },
      "execution_count": null,
      "outputs": []
    },
    {
      "cell_type": "code",
      "source": [
        "r = response.json()"
      ],
      "metadata": {
        "id": "Byt0JogH5O0z"
      },
      "execution_count": null,
      "outputs": []
    },
    {
      "cell_type": "code",
      "source": [
        "item = r['response']['body']['items']['item']\n",
        "\n",
        "sidoNm = [item['sidoNm'] for item in item]\n",
        "fireRcptMnb = [item['fireRcptMnb'] for item in item]\n",
        "flsrpPrcsMnb = [item['flsrpPrcsMnb'] for item in item]\n",
        "slfExtshMnb = [item['slfExtshMnb'] for item in item]\n",
        "stnEndMnb = [item['stnEndMnb'] for item in item]\n",
        "ocrnYmd = [item['ocrnYmd'] for item in item]      \n",
        "\n",
        "sidoNm = pd.Series(sidoNm)\n",
        "fireRcptMnb = pd.Series(fireRcptMnb)\n",
        "flsrpPrcsMnb = pd.Series(flsrpPrcsMnb)\n",
        "slfExtshMnb = pd.Series(slfExtshMnb)\n",
        "stnEndMnb = pd.Series(stnEndMnb)\n",
        "ocrnYmd = pd.Series(ocrnYmd)\n",
        "\n",
        "df = pd.DataFrame({'시도명' : sidoNm, '화재접수건수' : fireRcptMnb, '오보처리건수':flsrpPrcsMnb,'자체진화건수' : slfExtshMnb, '상황종료건수' : stnEndMnb, '발생일자' : ocrnYmd })\n",
        "\n"
      ],
      "metadata": {
        "id": "9LyDovFTIXz9"
      },
      "execution_count": null,
      "outputs": []
    },
    {
      "cell_type": "code",
      "source": [
        "def test(orcn_ymd):\n",
        "  URL = ('http://apis.data.go.kr/1661000/FireInformationService/'  'getOcBysidoFireSmrzPcnd?' 'serviceKey=gfz0fviKu8i9TecXGMsyKUe4fwYQtc9PxLRws1%2B%2Fisq7NEL3f0P36wgNDFbOq05Kj8%2BQrnbq2k8NrCURXketWA%3D%3D'  '&pageNo=1' '&numOfRows=10' '&resultType=json' '&ocrn_ymd='+orcn_ymd)\n",
        "  response = requests.get(URL)\n",
        "  r = response.json()\n",
        "  item = r['response']['body']['items']['item']\n",
        "\n",
        "  sidoNm = [item['sidoNm'] for item in item]\n",
        "  fireRcptMnb = [item['fireRcptMnb'] for item in item]\n",
        "  flsrpPrcsMnb = [item['flsrpPrcsMnb'] for item in item]\n",
        "  slfExtshMnb = [item['slfExtshMnb'] for item in item]\n",
        "  stnEndMnb = [item['stnEndMnb'] for item in item]    \n",
        "\n",
        "  sidoNm = pd.Series(sidoNm)\n",
        "  fireRcptMnb = pd.Series(fireRcptMnb)\n",
        "  flsrpPrcsMnb = pd.Series(flsrpPrcsMnb)\n",
        "  slfExtshMnb = pd.Series(slfExtshMnb)\n",
        "  stnEndMnb = pd.Series(stnEndMnb)\n",
        "\n",
        "  df = pd.DataFrame({'시도명' : sidoNm, '화재접수건수' : fireRcptMnb, '오보처리건수':flsrpPrcsMnb,'자체진화건수' : slfExtshMnb, '상황종료건수' : stnEndMnb})\n",
        "  return df\n"
      ],
      "metadata": {
        "id": "7rKJljU2ng7K"
      },
      "execution_count": null,
      "outputs": []
    },
    {
      "cell_type": "markdown",
      "source": [
        "연월일을 8자리로 (ex. 20220328) 입력하면 작동함."
      ],
      "metadata": {
        "id": "VWxABK_ItfNu"
      }
    },
    {
      "cell_type": "code",
      "source": [
        "iface = gr.Interface(test, inputs=[\"text\"], outputs=['dataframe'])\n",
        "iface.launch(debug=True)"
      ],
      "metadata": {
        "id": "qvQjdie4QjP4"
      },
      "execution_count": null,
      "outputs": []
    }
  ]
}