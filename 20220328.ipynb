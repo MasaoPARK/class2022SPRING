{
  "nbformat": 4,
  "nbformat_minor": 0,
  "metadata": {
    "colab": {
      "name": "Untitled3.ipynb",
      "provenance": [],
      "authorship_tag": "ABX9TyOopIv8ipQWpwhbguXRncjS",
      "include_colab_link": true
    },
    "kernelspec": {
      "name": "python3",
      "display_name": "Python 3"
    },
    "language_info": {
      "name": "python"
    }
  },
  "cells": [
    {
      "cell_type": "markdown",
      "metadata": {
        "id": "view-in-github",
        "colab_type": "text"
      },
      "source": [
        "<a href=\"https://colab.research.google.com/github/MasaoPARK/class2022SPRING/blob/main/20220328.ipynb\" target=\"_parent\"><img src=\"https://colab.research.google.com/assets/colab-badge.svg\" alt=\"Open In Colab\"/></a>"
      ]
    },
    {
      "cell_type": "code",
      "execution_count": null,
      "metadata": {
        "id": "8UIhU3hKtER4"
      },
      "outputs": [],
      "source": [
        "!pip install gradio\n",
        "import gradio as gr\n",
        "import requests\n",
        "import pandas as pd"
      ]
    },
    {
      "cell_type": "code",
      "source": [
        "URL = ('http://apis.data.go.kr/1661000/FireInformationService/getOcBysidoFireSmrzPcnd?serviceKey=gfz0fviKu8i9TecXGMsyKUe4fwYQtc9PxLRws1%2B%2Fisq7NEL3f0P36wgNDFbOq05Kj8%2BQrnbq2k8NrCURXketWA%3D%3D&pageNo=1&numOfRows=10&resultType=json&ocrn_ymd=20210121')"
      ],
      "metadata": {
        "id": "fkW7d4805A_a"
      },
      "execution_count": 80,
      "outputs": []
    },
    {
      "cell_type": "code",
      "source": [
        "response = requests.get(URL)"
      ],
      "metadata": {
        "id": "UkKFrNhE5JF6"
      },
      "execution_count": 81,
      "outputs": []
    },
    {
      "cell_type": "code",
      "source": [
        "r = response.json()"
      ],
      "metadata": {
        "id": "Byt0JogH5O0z"
      },
      "execution_count": 82,
      "outputs": []
    },
    {
      "cell_type": "code",
      "source": [
        "r"
      ],
      "metadata": {
        "id": "NCQHnaBX6-ZR"
      },
      "execution_count": null,
      "outputs": []
    },
    {
      "cell_type": "code",
      "source": [
        "response"
      ],
      "metadata": {
        "colab": {
          "base_uri": "https://localhost:8080/"
        },
        "id": "yMu7QX8BBplW",
        "outputId": "bb72e675-a74f-419f-f955-6cf29443daaa"
      },
      "execution_count": 28,
      "outputs": [
        {
          "output_type": "execute_result",
          "data": {
            "text/plain": [
              "<Response [200]>"
            ]
          },
          "metadata": {},
          "execution_count": 28
        }
      ]
    },
    {
      "cell_type": "code",
      "source": [
        "item = r['response']['body']['items']['item']\n",
        "\n",
        "sidoNm = [item['sidoNm'] for item in item]\n",
        "fireRcptMnb = [item['fireRcptMnb'] for item in item]\n",
        "flsrpPrcsMnb = [item['flsrpPrcsMnb'] for item in item]\n",
        "slfExtshMnb = [item['slfExtshMnb'] for item in item]\n",
        "stnEndMnb = [item['stnEndMnb'] for item in item]\n",
        "ocrnYmd = [item['ocrnYmd'] for item in item]      \n",
        "\n",
        "sidoNm = pd.Series(sidoNm)\n",
        "fireRcptMnb = pd.Series(fireRcptMnb)\n",
        "flsrpPrcsMnb = pd.Series(flsrpPrcsMnb)\n",
        "slfExtshMnb = pd.Series(slfExtshMnb)\n",
        "stnEndMnb = pd.Series(stnEndMnb)\n",
        "ocrnYmd = pd.Series(ocrnYmd)\n",
        "\n",
        "df = pd.DataFrame({'시도명' : sidoNm, '화재접수건수' : fireRcptMnb, '오보처리건수':flsrpPrcsMnb,'자체진화건수' : slfExtshMnb, '상황종료건수' : stnEndMnb, '발생일자' : ocrnYmd })\n",
        "\n"
      ],
      "metadata": {
        "id": "9LyDovFTIXz9"
      },
      "execution_count": 97,
      "outputs": []
    },
    {
      "cell_type": "code",
      "source": [
        "def test(orcn_ymd):\n",
        "  URL = ('http://apis.data.go.kr/1661000/FireInformationService/'  'getOcBysidoFireSmrzPcnd?' 'serviceKey=gfz0fviKu8i9TecXGMsyKUe4fwYQtc9PxLRws1%2B%2Fisq7NEL3f0P36wgNDFbOq05Kj8%2BQrnbq2k8NrCURXketWA%3D%3D'  '&pageNo=1' '&numOfRows=10' '&resultType=json' '&ocrn_ymd='+orcn_ymd)\n",
        "  response = requests.get(URL)\n",
        "  r = response.json()\n",
        "  item = r['response']['body']['items']['item']\n",
        "\n",
        "  sidoNm = [item['sidoNm'] for item in item]\n",
        "  fireRcptMnb = [item['fireRcptMnb'] for item in item]\n",
        "  flsrpPrcsMnb = [item['flsrpPrcsMnb'] for item in item]\n",
        "  slfExtshMnb = [item['slfExtshMnb'] for item in item]\n",
        "  stnEndMnb = [item['stnEndMnb'] for item in item]    \n",
        "\n",
        "  sidoNm = pd.Series(sidoNm)\n",
        "  fireRcptMnb = pd.Series(fireRcptMnb)\n",
        "  flsrpPrcsMnb = pd.Series(flsrpPrcsMnb)\n",
        "  slfExtshMnb = pd.Series(slfExtshMnb)\n",
        "  stnEndMnb = pd.Series(stnEndMnb)\n",
        "\n",
        "  df = pd.DataFrame({'시도명' : sidoNm, '화재접수건수' : fireRcptMnb, '오보처리건수':flsrpPrcsMnb,'자체진화건수' : slfExtshMnb, '상황종료건수' : stnEndMnb})\n",
        "  return df\n"
      ],
      "metadata": {
        "id": "7rKJljU2ng7K"
      },
      "execution_count": 105,
      "outputs": []
    },
    {
      "cell_type": "code",
      "source": [
        "iface = gr.Interface(test, inputs=[\"text\"], outputs=['dataframe'])\n",
        "iface.launch(debug=True)"
      ],
      "metadata": {
        "colab": {
          "base_uri": "https://localhost:8080/",
          "height": 669
        },
        "id": "qvQjdie4QjP4",
        "outputId": "f4516c36-8727-4924-d8c1-32dc365f3781"
      },
      "execution_count": 107,
      "outputs": [
        {
          "output_type": "stream",
          "name": "stdout",
          "text": [
            "Colab notebook detected. This cell will run indefinitely so that you can see errors and logs. To turn off, set debug=False in launch().\n",
            "Running on public URL: https://15799.gradio.app\n",
            "\n",
            "This share link expires in 72 hours. For free permanent hosting, check out Spaces (https://huggingface.co/spaces)\n"
          ]
        },
        {
          "output_type": "display_data",
          "data": {
            "text/plain": [
              "<IPython.lib.display.IFrame at 0x7f08c6ebcdd0>"
            ],
            "text/html": [
              "\n",
              "        <iframe\n",
              "            width=\"900\"\n",
              "            height=\"500\"\n",
              "            src=\"https://15799.gradio.app\"\n",
              "            frameborder=\"0\"\n",
              "            allowfullscreen\n",
              "        ></iframe>\n",
              "        "
            ]
          },
          "metadata": {}
        },
        {
          "output_type": "stream",
          "name": "stdout",
          "text": [
            "Keyboard interruption in main thread... closing server.\n"
          ]
        },
        {
          "output_type": "execute_result",
          "data": {
            "text/plain": [
              "(<fastapi.applications.FastAPI at 0x7f08bc784050>,\n",
              " 'http://127.0.0.1:7860/',\n",
              " 'https://15799.gradio.app')"
            ]
          },
          "metadata": {},
          "execution_count": 107
        }
      ]
    },
    {
      "cell_type": "code",
      "source": [
        ""
      ],
      "metadata": {
        "id": "STfJNOh1R1Dw"
      },
      "execution_count": null,
      "outputs": []
    }
  ]
}