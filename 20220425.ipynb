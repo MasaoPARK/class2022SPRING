{
  "nbformat": 4,
  "nbformat_minor": 0,
  "metadata": {
    "colab": {
      "name": "Untitled6.ipynb",
      "provenance": [],
      "authorship_tag": "ABX9TyORAkbab2OrCaBMR5EydA8/",
      "include_colab_link": true
    },
    "kernelspec": {
      "name": "python3",
      "display_name": "Python 3"
    },
    "language_info": {
      "name": "python"
    }
  },
  "cells": [
    {
      "cell_type": "markdown",
      "metadata": {
        "id": "view-in-github",
        "colab_type": "text"
      },
      "source": [
        "<a href=\"https://colab.research.google.com/github/MasaoPARK/class2022SPRING/blob/main/20220425.ipynb\" target=\"_parent\"><img src=\"https://colab.research.google.com/assets/colab-badge.svg\" alt=\"Open In Colab\"/></a>"
      ]
    },
    {
      "cell_type": "code",
      "execution_count": null,
      "metadata": {
        "id": "CnHYKgNBCkah"
      },
      "outputs": [],
      "source": [
        ""
      ]
    },
    {
      "cell_type": "markdown",
      "source": [
        "autocorrelation(자기상관) : 시간 영역을 흐르는 A라는 신호를 가정하자.\n",
        "두개의 A신호를 포개어 하나의 A신호 그림을 왼쪽으로 조금씩 움직이며 겹치는 부분을 적분한다. 만약 A신호가 시간에 따라 유사한 성질을 갖게 된다면 적분값이 커지게 될 것이다."
      ],
      "metadata": {
        "id": "MjRRN2PyCoFz"
      }
    },
    {
      "cell_type": "markdown",
      "source": [
        "RMS(Root Mean Square): 원래의 값을 제곱한 값들의 평균값의 양의 제곱근으로 정의된다. +와 -가 혼재된 경우와 같이 기존 평균값을 사용하기 어려울 경우(ex. 1주기(period) 동안 발생한 전압을 계산할 때 평균값을 취하면 0이 나오게 된다) 사용한다."
      ],
      "metadata": {
        "id": "9AKJXb6mDaFq"
      }
    }
  ]
}